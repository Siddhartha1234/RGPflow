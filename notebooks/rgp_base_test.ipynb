{
 "cells": [
  {
   "cell_type": "code",
   "execution_count": 27,
   "metadata": {
    "collapsed": true
   },
   "outputs": [],
   "source": [
    "from RGP.rgp import RGP_Base\n",
    "from scipy import io\n",
    "from gpflow.likelihoods import Gaussian\n",
    "import gpflow"
   ]
  },
  {
   "cell_type": "code",
   "execution_count": 28,
   "metadata": {},
   "outputs": [],
   "source": [
    "data = io.loadmat('./notebooks/identificationExample.mat')\n",
    "data_in = data['u'][:,None]\n",
    "data_out = data['y'][:,None]\n",
    "win_in = int(data['lu'])\n",
    "win_out = int(data['ly'])\n",
    "data_in_train = data_in[:150]\n",
    "data_out_train = data_out[:150]\n",
    "data_in_test = data_in[150:]\n",
    "data_out_test = data_out[150:]\n"
   ]
  },
  {
   "cell_type": "code",
   "execution_count": 29,
   "metadata": {},
   "outputs": [
    {
     "name": "stdout",
     "output_type": "stream",
     "text": [
      "(150, 1)\n(150, 1)\n"
     ]
    }
   ],
   "source": [
    "print(data_in_train.shape)\n",
    "print(data_in_test.shape)"
   ]
  },
  {
   "cell_type": "code",
   "execution_count": 30,
   "metadata": {
    "collapsed": false
   },
   "outputs": [
    {
     "name": "stdout",
     "output_type": "stream",
     "text": [
      "ERROR:tensorflow:==================================\nObject was never used (type <class 'tensorflow.python.framework.ops.Tensor'>):\n<tf.Tensor 'Gaussian-71ef21da-42/variance/IsVariableInitialized:0' shape=() dtype=bool>\nIf you want to mark it as used call its \"mark_used()\" method.\nIt was originally created here:\n  File \"/usr/local/lib/python3.7/site-packages/IPython/core/interactiveshell.py\", line 3316, in run_code\n    return outflag  File \"<ipython-input-24-aae9570dbb3c>\", line 1, in <module>\n    likelihood = Gaussian()  File \"/usr/local/lib/python3.7/site-packages/gpflow/core/compilable.py\", line 91, in __init__\n    self.initialize(force=True)  File \"/usr/local/lib/python3.7/site-packages/gpflow/core/node.py\", line 156, in build\n    self._build()  File \"/usr/local/lib/python3.7/site-packages/gpflow/params/parameterized.py\", line 302, in _build\n    self._prior_tensor = self._build_prior(priors)  File \"/usr/local/lib/python3.7/site-packages/gpflow/core/node.py\", line 156, in build\n    self._build()  File \"/usr/local/lib/python3.7/site-packages/gpflow/params/parameter.py\", line 370, in _build\n    self._prior_tensor = prior  File \"/usr/local/lib/python3.7/site-packages/tensorflow/python/util/tf_should_use.py\", line 193, in wrapped\n    return _add_should_use_warning(fn(*args, **kwargs))\n==================================\n"
     ]
    },
    {
     "name": "stderr",
     "output_type": "stream",
     "text": [
      "ERROR:tensorflow:==================================\nObject was never used (type <class 'tensorflow.python.framework.ops.Tensor'>):\n<tf.Tensor 'Gaussian-71ef21da-42/variance/IsVariableInitialized:0' shape=() dtype=bool>\nIf you want to mark it as used call its \"mark_used()\" method.\nIt was originally created here:\n  File \"/usr/local/lib/python3.7/site-packages/IPython/core/interactiveshell.py\", line 3316, in run_code\n    return outflag  File \"<ipython-input-24-aae9570dbb3c>\", line 1, in <module>\n    likelihood = Gaussian()  File \"/usr/local/lib/python3.7/site-packages/gpflow/core/compilable.py\", line 91, in __init__\n    self.initialize(force=True)  File \"/usr/local/lib/python3.7/site-packages/gpflow/core/node.py\", line 156, in build\n    self._build()  File \"/usr/local/lib/python3.7/site-packages/gpflow/params/parameterized.py\", line 302, in _build\n    self._prior_tensor = self._build_prior(priors)  File \"/usr/local/lib/python3.7/site-packages/gpflow/core/node.py\", line 156, in build\n    self._build()  File \"/usr/local/lib/python3.7/site-packages/gpflow/params/parameter.py\", line 370, in _build\n    self._prior_tensor = prior  File \"/usr/local/lib/python3.7/site-packages/tensorflow/python/util/tf_should_use.py\", line 193, in wrapped\n    return _add_should_use_warning(fn(*args, **kwargs))\n==================================\n"
     ]
    },
    {
     "name": "stdout",
     "output_type": "stream",
     "text": [
      "ERROR:tensorflow:==================================\nObject was never used (type <class 'tensorflow.python.framework.ops.Tensor'>):\n<tf.Tensor 'Matern32-09195414-44/lengthscales/IsVariableInitialized:0' shape=() dtype=bool>\nIf you want to mark it as used call its \"mark_used()\" method.\nIt was originally created here:\n  File \"/usr/local/lib/python3.7/site-packages/IPython/core/interactiveshell.py\", line 3316, in run_code\n    return outflag  File \"<ipython-input-24-aae9570dbb3c>\", line 2, in <module>\n    kern = gpflow.kernels.Matern32(input_dim=1, variance=10., lengthscales=2.)  File \"/usr/local/lib/python3.7/site-packages/gpflow/core/compilable.py\", line 91, in __init__\n    self.initialize(force=True)  File \"/usr/local/lib/python3.7/site-packages/gpflow/core/node.py\", line 156, in build\n    self._build()  File \"/usr/local/lib/python3.7/site-packages/gpflow/params/parameterized.py\", line 302, in _build\n    self._prior_tensor = self._build_prior(priors)  File \"/usr/local/lib/python3.7/site-packages/gpflow/core/node.py\", line 156, in build\n    self._build()  File \"/usr/local/lib/python3.7/site-packages/gpflow/params/parameter.py\", line 370, in _build\n    self._prior_tensor = prior  File \"/usr/local/lib/python3.7/site-packages/tensorflow/python/util/tf_should_use.py\", line 193, in wrapped\n    return _add_should_use_warning(fn(*args, **kwargs))\n==================================\n"
     ]
    },
    {
     "name": "stderr",
     "output_type": "stream",
     "text": [
      "ERROR:tensorflow:==================================\nObject was never used (type <class 'tensorflow.python.framework.ops.Tensor'>):\n<tf.Tensor 'Matern32-09195414-44/lengthscales/IsVariableInitialized:0' shape=() dtype=bool>\nIf you want to mark it as used call its \"mark_used()\" method.\nIt was originally created here:\n  File \"/usr/local/lib/python3.7/site-packages/IPython/core/interactiveshell.py\", line 3316, in run_code\n    return outflag  File \"<ipython-input-24-aae9570dbb3c>\", line 2, in <module>\n    kern = gpflow.kernels.Matern32(input_dim=1, variance=10., lengthscales=2.)  File \"/usr/local/lib/python3.7/site-packages/gpflow/core/compilable.py\", line 91, in __init__\n    self.initialize(force=True)  File \"/usr/local/lib/python3.7/site-packages/gpflow/core/node.py\", line 156, in build\n    self._build()  File \"/usr/local/lib/python3.7/site-packages/gpflow/params/parameterized.py\", line 302, in _build\n    self._prior_tensor = self._build_prior(priors)  File \"/usr/local/lib/python3.7/site-packages/gpflow/core/node.py\", line 156, in build\n    self._build()  File \"/usr/local/lib/python3.7/site-packages/gpflow/params/parameter.py\", line 370, in _build\n    self._prior_tensor = prior  File \"/usr/local/lib/python3.7/site-packages/tensorflow/python/util/tf_should_use.py\", line 193, in wrapped\n    return _add_should_use_warning(fn(*args, **kwargs))\n==================================\n"
     ]
    },
    {
     "name": "stdout",
     "output_type": "stream",
     "text": [
      "ERROR:tensorflow:==================================\nObject was never used (type <class 'tensorflow.python.framework.ops.Tensor'>):\n<tf.Tensor 'Matern32-09195414-44/variance/IsVariableInitialized:0' shape=() dtype=bool>\nIf you want to mark it as used call its \"mark_used()\" method.\nIt was originally created here:\n  File \"/usr/local/lib/python3.7/site-packages/IPython/core/interactiveshell.py\", line 3316, in run_code\n    return outflag  File \"<ipython-input-24-aae9570dbb3c>\", line 2, in <module>\n    kern = gpflow.kernels.Matern32(input_dim=1, variance=10., lengthscales=2.)  File \"/usr/local/lib/python3.7/site-packages/gpflow/core/compilable.py\", line 91, in __init__\n    self.initialize(force=True)  File \"/usr/local/lib/python3.7/site-packages/gpflow/core/node.py\", line 156, in build\n    self._build()  File \"/usr/local/lib/python3.7/site-packages/gpflow/params/parameterized.py\", line 302, in _build\n    self._prior_tensor = self._build_prior(priors)  File \"/usr/local/lib/python3.7/site-packages/gpflow/core/node.py\", line 156, in build\n    self._build()  File \"/usr/local/lib/python3.7/site-packages/gpflow/params/parameter.py\", line 370, in _build\n    self._prior_tensor = prior  File \"/usr/local/lib/python3.7/site-packages/tensorflow/python/util/tf_should_use.py\", line 193, in wrapped\n    return _add_should_use_warning(fn(*args, **kwargs))\n==================================\n"
     ]
    },
    {
     "name": "stderr",
     "output_type": "stream",
     "text": [
      "ERROR:tensorflow:==================================\nObject was never used (type <class 'tensorflow.python.framework.ops.Tensor'>):\n<tf.Tensor 'Matern32-09195414-44/variance/IsVariableInitialized:0' shape=() dtype=bool>\nIf you want to mark it as used call its \"mark_used()\" method.\nIt was originally created here:\n  File \"/usr/local/lib/python3.7/site-packages/IPython/core/interactiveshell.py\", line 3316, in run_code\n    return outflag  File \"<ipython-input-24-aae9570dbb3c>\", line 2, in <module>\n    kern = gpflow.kernels.Matern32(input_dim=1, variance=10., lengthscales=2.)  File \"/usr/local/lib/python3.7/site-packages/gpflow/core/compilable.py\", line 91, in __init__\n    self.initialize(force=True)  File \"/usr/local/lib/python3.7/site-packages/gpflow/core/node.py\", line 156, in build\n    self._build()  File \"/usr/local/lib/python3.7/site-packages/gpflow/params/parameterized.py\", line 302, in _build\n    self._prior_tensor = self._build_prior(priors)  File \"/usr/local/lib/python3.7/site-packages/gpflow/core/node.py\", line 156, in build\n    self._build()  File \"/usr/local/lib/python3.7/site-packages/gpflow/params/parameter.py\", line 370, in _build\n    self._prior_tensor = prior  File \"/usr/local/lib/python3.7/site-packages/tensorflow/python/util/tf_should_use.py\", line 193, in wrapped\n    return _add_should_use_warning(fn(*args, **kwargs))\n==================================\n"
     ]
    },
    {
     "name": "stdout",
     "output_type": "stream",
     "text": [
      "ERROR:tensorflow:==================================\nObject was never used (type <class 'tensorflow.python.framework.ops.Tensor'>):\n<tf.Tensor 'Gaussian-fc0840a0-48/variance/IsVariableInitialized:0' shape=() dtype=bool>\nIf you want to mark it as used call its \"mark_used()\" method.\nIt was originally created here:\n  File \"/usr/local/lib/python3.7/site-packages/IPython/core/interactiveshell.py\", line 3316, in run_code\n    return outflag  File \"<ipython-input-25-aae9570dbb3c>\", line 1, in <module>\n    likelihood = Gaussian()  File \"/usr/local/lib/python3.7/site-packages/gpflow/core/compilable.py\", line 91, in __init__\n    self.initialize(force=True)  File \"/usr/local/lib/python3.7/site-packages/gpflow/core/node.py\", line 156, in build\n    self._build()  File \"/usr/local/lib/python3.7/site-packages/gpflow/params/parameterized.py\", line 302, in _build\n    self._prior_tensor = self._build_prior(priors)  File \"/usr/local/lib/python3.7/site-packages/gpflow/core/node.py\", line 156, in build\n    self._build()  File \"/usr/local/lib/python3.7/site-packages/gpflow/params/parameter.py\", line 370, in _build\n    self._prior_tensor = prior  File \"/usr/local/lib/python3.7/site-packages/tensorflow/python/util/tf_should_use.py\", line 193, in wrapped\n    return _add_should_use_warning(fn(*args, **kwargs))\n==================================\n"
     ]
    },
    {
     "name": "stderr",
     "output_type": "stream",
     "text": [
      "ERROR:tensorflow:==================================\nObject was never used (type <class 'tensorflow.python.framework.ops.Tensor'>):\n<tf.Tensor 'Gaussian-fc0840a0-48/variance/IsVariableInitialized:0' shape=() dtype=bool>\nIf you want to mark it as used call its \"mark_used()\" method.\nIt was originally created here:\n  File \"/usr/local/lib/python3.7/site-packages/IPython/core/interactiveshell.py\", line 3316, in run_code\n    return outflag  File \"<ipython-input-25-aae9570dbb3c>\", line 1, in <module>\n    likelihood = Gaussian()  File \"/usr/local/lib/python3.7/site-packages/gpflow/core/compilable.py\", line 91, in __init__\n    self.initialize(force=True)  File \"/usr/local/lib/python3.7/site-packages/gpflow/core/node.py\", line 156, in build\n    self._build()  File \"/usr/local/lib/python3.7/site-packages/gpflow/params/parameterized.py\", line 302, in _build\n    self._prior_tensor = self._build_prior(priors)  File \"/usr/local/lib/python3.7/site-packages/gpflow/core/node.py\", line 156, in build\n    self._build()  File \"/usr/local/lib/python3.7/site-packages/gpflow/params/parameter.py\", line 370, in _build\n    self._prior_tensor = prior  File \"/usr/local/lib/python3.7/site-packages/tensorflow/python/util/tf_should_use.py\", line 193, in wrapped\n    return _add_should_use_warning(fn(*args, **kwargs))\n==================================\n"
     ]
    },
    {
     "name": "stdout",
     "output_type": "stream",
     "text": [
      "ERROR:tensorflow:==================================\nObject was never used (type <class 'tensorflow.python.framework.ops.Tensor'>):\n<tf.Tensor 'Matern32-bae53ce2-50/lengthscales/IsVariableInitialized:0' shape=() dtype=bool>\nIf you want to mark it as used call its \"mark_used()\" method.\nIt was originally created here:\n  File \"/usr/local/lib/python3.7/site-packages/IPython/core/interactiveshell.py\", line 3316, in run_code\n    return outflag  File \"<ipython-input-25-aae9570dbb3c>\", line 2, in <module>\n    kern = gpflow.kernels.Matern32(input_dim=1, variance=10., lengthscales=2.)  File \"/usr/local/lib/python3.7/site-packages/gpflow/core/compilable.py\", line 91, in __init__\n    self.initialize(force=True)  File \"/usr/local/lib/python3.7/site-packages/gpflow/core/node.py\", line 156, in build\n    self._build()  File \"/usr/local/lib/python3.7/site-packages/gpflow/params/parameterized.py\", line 302, in _build\n    self._prior_tensor = self._build_prior(priors)  File \"/usr/local/lib/python3.7/site-packages/gpflow/core/node.py\", line 156, in build\n    self._build()  File \"/usr/local/lib/python3.7/site-packages/gpflow/params/parameter.py\", line 370, in _build\n    self._prior_tensor = prior  File \"/usr/local/lib/python3.7/site-packages/tensorflow/python/util/tf_should_use.py\", line 193, in wrapped\n    return _add_should_use_warning(fn(*args, **kwargs))\n==================================\n"
     ]
    },
    {
     "name": "stderr",
     "output_type": "stream",
     "text": [
      "ERROR:tensorflow:==================================\nObject was never used (type <class 'tensorflow.python.framework.ops.Tensor'>):\n<tf.Tensor 'Matern32-bae53ce2-50/lengthscales/IsVariableInitialized:0' shape=() dtype=bool>\nIf you want to mark it as used call its \"mark_used()\" method.\nIt was originally created here:\n  File \"/usr/local/lib/python3.7/site-packages/IPython/core/interactiveshell.py\", line 3316, in run_code\n    return outflag  File \"<ipython-input-25-aae9570dbb3c>\", line 2, in <module>\n    kern = gpflow.kernels.Matern32(input_dim=1, variance=10., lengthscales=2.)  File \"/usr/local/lib/python3.7/site-packages/gpflow/core/compilable.py\", line 91, in __init__\n    self.initialize(force=True)  File \"/usr/local/lib/python3.7/site-packages/gpflow/core/node.py\", line 156, in build\n    self._build()  File \"/usr/local/lib/python3.7/site-packages/gpflow/params/parameterized.py\", line 302, in _build\n    self._prior_tensor = self._build_prior(priors)  File \"/usr/local/lib/python3.7/site-packages/gpflow/core/node.py\", line 156, in build\n    self._build()  File \"/usr/local/lib/python3.7/site-packages/gpflow/params/parameter.py\", line 370, in _build\n    self._prior_tensor = prior  File \"/usr/local/lib/python3.7/site-packages/tensorflow/python/util/tf_should_use.py\", line 193, in wrapped\n    return _add_should_use_warning(fn(*args, **kwargs))\n==================================\n"
     ]
    },
    {
     "name": "stdout",
     "output_type": "stream",
     "text": [
      "ERROR:tensorflow:==================================\nObject was never used (type <class 'tensorflow.python.framework.ops.Tensor'>):\n<tf.Tensor 'Matern32-bae53ce2-50/variance/IsVariableInitialized:0' shape=() dtype=bool>\nIf you want to mark it as used call its \"mark_used()\" method.\nIt was originally created here:\n  File \"/usr/local/lib/python3.7/site-packages/IPython/core/interactiveshell.py\", line 3316, in run_code\n    return outflag  File \"<ipython-input-25-aae9570dbb3c>\", line 2, in <module>\n    kern = gpflow.kernels.Matern32(input_dim=1, variance=10., lengthscales=2.)  File \"/usr/local/lib/python3.7/site-packages/gpflow/core/compilable.py\", line 91, in __init__\n    self.initialize(force=True)  File \"/usr/local/lib/python3.7/site-packages/gpflow/core/node.py\", line 156, in build\n    self._build()  File \"/usr/local/lib/python3.7/site-packages/gpflow/params/parameterized.py\", line 302, in _build\n    self._prior_tensor = self._build_prior(priors)  File \"/usr/local/lib/python3.7/site-packages/gpflow/core/node.py\", line 156, in build\n    self._build()  File \"/usr/local/lib/python3.7/site-packages/gpflow/params/parameter.py\", line 370, in _build\n    self._prior_tensor = prior  File \"/usr/local/lib/python3.7/site-packages/tensorflow/python/util/tf_should_use.py\", line 193, in wrapped\n    return _add_should_use_warning(fn(*args, **kwargs))\n==================================\n"
     ]
    },
    {
     "name": "stderr",
     "output_type": "stream",
     "text": [
      "ERROR:tensorflow:==================================\nObject was never used (type <class 'tensorflow.python.framework.ops.Tensor'>):\n<tf.Tensor 'Matern32-bae53ce2-50/variance/IsVariableInitialized:0' shape=() dtype=bool>\nIf you want to mark it as used call its \"mark_used()\" method.\nIt was originally created here:\n  File \"/usr/local/lib/python3.7/site-packages/IPython/core/interactiveshell.py\", line 3316, in run_code\n    return outflag  File \"<ipython-input-25-aae9570dbb3c>\", line 2, in <module>\n    kern = gpflow.kernels.Matern32(input_dim=1, variance=10., lengthscales=2.)  File \"/usr/local/lib/python3.7/site-packages/gpflow/core/compilable.py\", line 91, in __init__\n    self.initialize(force=True)  File \"/usr/local/lib/python3.7/site-packages/gpflow/core/node.py\", line 156, in build\n    self._build()  File \"/usr/local/lib/python3.7/site-packages/gpflow/params/parameterized.py\", line 302, in _build\n    self._prior_tensor = self._build_prior(priors)  File \"/usr/local/lib/python3.7/site-packages/gpflow/core/node.py\", line 156, in build\n    self._build()  File \"/usr/local/lib/python3.7/site-packages/gpflow/params/parameter.py\", line 370, in _build\n    self._prior_tensor = prior  File \"/usr/local/lib/python3.7/site-packages/tensorflow/python/util/tf_should_use.py\", line 193, in wrapped\n    return _add_should_use_warning(fn(*args, **kwargs))\n==================================\n"
     ]
    },
    {
     "ename": "AttributeError",
     "evalue": "'RGP_Base' object has no attribute 'n_layers'",
     "traceback": [
      "\u001b[0;31m---------------------------------------------------------------------------\u001b[0m",
      "\u001b[0;31mAttributeError\u001b[0m                            Traceback (most recent call last)",
      "\u001b[0;32m<ipython-input-30-aae9570dbb3c>\u001b[0m in \u001b[0;36m<module>\u001b[0;34m\u001b[0m\n\u001b[1;32m      3\u001b[0m \u001b[0;34m\u001b[0m\u001b[0m\n\u001b[1;32m      4\u001b[0m \u001b[0mkernels\u001b[0m \u001b[0;34m=\u001b[0m \u001b[0;34m[\u001b[0m\u001b[0mkern\u001b[0m\u001b[0;34m]\u001b[0m\u001b[0;34m*\u001b[0m\u001b[0;36m2\u001b[0m\u001b[0;34m\u001b[0m\u001b[0;34m\u001b[0m\u001b[0m\n\u001b[0;32m----> 5\u001b[0;31m \u001b[0mm\u001b[0m \u001b[0;34m=\u001b[0m \u001b[0mRGP_Base\u001b[0m\u001b[0;34m(\u001b[0m\u001b[0mU\u001b[0m\u001b[0;34m=\u001b[0m\u001b[0mdata_in_train\u001b[0m\u001b[0;34m,\u001b[0m \u001b[0mY\u001b[0m\u001b[0;34m=\u001b[0m\u001b[0mdata_out_train\u001b[0m\u001b[0;34m,\u001b[0m \u001b[0mlikelihood\u001b[0m\u001b[0;34m=\u001b[0m\u001b[0mlikelihood\u001b[0m\u001b[0;34m,\u001b[0m \u001b[0mkernels\u001b[0m\u001b[0;34m=\u001b[0m\u001b[0mkernels\u001b[0m\u001b[0;34m,\u001b[0m \u001b[0mU_win\u001b[0m\u001b[0;34m=\u001b[0m\u001b[0mwin_in\u001b[0m\u001b[0;34m,\u001b[0m \u001b[0mX_win\u001b[0m\u001b[0;34m=\u001b[0m\u001b[0mwin_out\u001b[0m\u001b[0;34m,\u001b[0m \u001b[0mnum_classes\u001b[0m\u001b[0;34m=\u001b[0m\u001b[0;36m1\u001b[0m\u001b[0;34m)\u001b[0m\u001b[0;34m\u001b[0m\u001b[0;34m\u001b[0m\u001b[0m\n\u001b[0m\u001b[1;32m      6\u001b[0m \u001b[0mm\u001b[0m\u001b[0;34m.\u001b[0m\u001b[0mas_pandas_table\u001b[0m\u001b[0;34m(\u001b[0m\u001b[0;34m)\u001b[0m\u001b[0;34m\u001b[0m\u001b[0;34m\u001b[0m\u001b[0m\n",
      "\u001b[0;32m/usr/local/lib/python3.7/site-packages/gpflow/core/compilable.py\u001b[0m in \u001b[0;36m__init__\u001b[0;34m(self, *args, **kwargs)\u001b[0m\n\u001b[1;32m     84\u001b[0m                     \u001b[0;32mbreak\u001b[0m\u001b[0;34m\u001b[0m\u001b[0;34m\u001b[0m\u001b[0m\n\u001b[1;32m     85\u001b[0m                 \u001b[0mframe\u001b[0m \u001b[0;34m=\u001b[0m \u001b[0mframe\u001b[0m\u001b[0;34m.\u001b[0m\u001b[0mf_back\u001b[0m\u001b[0;34m\u001b[0m\u001b[0;34m\u001b[0m\u001b[0m\n\u001b[0;32m---> 86\u001b[0;31m             \u001b[0morigin_init\u001b[0m\u001b[0;34m(\u001b[0m\u001b[0mself\u001b[0m\u001b[0;34m,\u001b[0m \u001b[0;34m*\u001b[0m\u001b[0margs\u001b[0m\u001b[0;34m,\u001b[0m \u001b[0;34m**\u001b[0m\u001b[0mkwargs\u001b[0m\u001b[0;34m)\u001b[0m\u001b[0;34m\u001b[0m\u001b[0;34m\u001b[0m\u001b[0m\n\u001b[0m\u001b[1;32m     87\u001b[0m             \u001b[0mautobuild_on\u001b[0m \u001b[0;34m=\u001b[0m \u001b[0m__execute_autobuild__\u001b[0m \u001b[0;34m==\u001b[0m \u001b[0mAutoBuildStatus\u001b[0m\u001b[0;34m.\u001b[0m\u001b[0mBUILD\u001b[0m\u001b[0;34m\u001b[0m\u001b[0;34m\u001b[0m\u001b[0m\n\u001b[1;32m     88\u001b[0m             \u001b[0mglobal_autobuild_on\u001b[0m \u001b[0;34m=\u001b[0m \u001b[0mAutoBuildStatus\u001b[0m\u001b[0;34m.\u001b[0m\u001b[0m__autobuild_enabled_global__\u001b[0m\u001b[0;34m\u001b[0m\u001b[0;34m\u001b[0m\u001b[0m\n",
      "\u001b[0;32m~/Documents/BayesianMachineLearning/RGPflow/RGP/rgp.py\u001b[0m in \u001b[0;36m__init__\u001b[0;34m(self, U, Y, likelihood, kernels, X_win, U_win, init, X_var, num_classes, **kwargs)\u001b[0m\n\u001b[1;32m     46\u001b[0m \u001b[0;34m\u001b[0m\u001b[0m\n\u001b[1;32m     47\u001b[0m         \u001b[0mself\u001b[0m\u001b[0;34m.\u001b[0m\u001b[0m_init_data\u001b[0m\u001b[0;34m(\u001b[0m\u001b[0mU\u001b[0m\u001b[0;34m,\u001b[0m \u001b[0mY\u001b[0m\u001b[0;34m)\u001b[0m\u001b[0;34m\u001b[0m\u001b[0;34m\u001b[0m\u001b[0m\n\u001b[0;32m---> 48\u001b[0;31m         \u001b[0mself\u001b[0m\u001b[0;34m.\u001b[0m\u001b[0m_init_params\u001b[0m\u001b[0;34m(\u001b[0m\u001b[0minit\u001b[0m\u001b[0;34m,\u001b[0m \u001b[0mX_var\u001b[0m\u001b[0;34m)\u001b[0m\u001b[0;34m\u001b[0m\u001b[0;34m\u001b[0m\u001b[0m\n\u001b[0m\u001b[1;32m     49\u001b[0m         \u001b[0mself\u001b[0m\u001b[0;34m.\u001b[0m\u001b[0m_init_layers\u001b[0m\u001b[0;34m(\u001b[0m\u001b[0;34m)\u001b[0m\u001b[0;34m\u001b[0m\u001b[0;34m\u001b[0m\u001b[0m\n\u001b[1;32m     50\u001b[0m \u001b[0;34m\u001b[0m\u001b[0m\n",
      "\u001b[0;32m~/Documents/BayesianMachineLearning/RGPflow/RGP/rgp.py\u001b[0m in \u001b[0;36m_init_params\u001b[0;34m(self, init, X_var)\u001b[0m\n\u001b[1;32m     60\u001b[0m     \u001b[0;32mdef\u001b[0m \u001b[0m_init_params\u001b[0m\u001b[0;34m(\u001b[0m\u001b[0mself\u001b[0m\u001b[0;34m,\u001b[0m \u001b[0minit\u001b[0m\u001b[0;34m,\u001b[0m \u001b[0mX_var\u001b[0m\u001b[0;34m)\u001b[0m\u001b[0;34m:\u001b[0m\u001b[0;34m\u001b[0m\u001b[0;34m\u001b[0m\u001b[0m\n\u001b[1;32m     61\u001b[0m         \u001b[0mself\u001b[0m\u001b[0;34m.\u001b[0m\u001b[0mX\u001b[0m \u001b[0;34m=\u001b[0m \u001b[0;34m[\u001b[0m\u001b[0;34m]\u001b[0m\u001b[0;34m\u001b[0m\u001b[0;34m\u001b[0m\u001b[0m\n\u001b[0;32m---> 62\u001b[0;31m         \u001b[0;32mfor\u001b[0m \u001b[0mi_l\u001b[0m \u001b[0;32min\u001b[0m \u001b[0mrange\u001b[0m\u001b[0;34m(\u001b[0m\u001b[0;36m1\u001b[0m\u001b[0;34m,\u001b[0m \u001b[0mself\u001b[0m\u001b[0;34m.\u001b[0m\u001b[0mnLayers\u001b[0m\u001b[0;34m)\u001b[0m\u001b[0;34m:\u001b[0m\u001b[0;34m\u001b[0m\u001b[0;34m\u001b[0m\u001b[0m\n\u001b[0m\u001b[1;32m     63\u001b[0m             \u001b[0mxx\u001b[0m \u001b[0;34m=\u001b[0m \u001b[0;34m[\u001b[0m\u001b[0;34m]\u001b[0m\u001b[0;34m\u001b[0m\u001b[0;34m\u001b[0m\u001b[0m\n\u001b[1;32m     64\u001b[0m             \u001b[0;32mfor\u001b[0m \u001b[0mi_n\u001b[0m \u001b[0;32min\u001b[0m \u001b[0mrange\u001b[0m\u001b[0;34m(\u001b[0m\u001b[0mself\u001b[0m\u001b[0;34m.\u001b[0m\u001b[0mnSeq\u001b[0m\u001b[0;34m)\u001b[0m\u001b[0;34m:\u001b[0m\u001b[0;34m\u001b[0m\u001b[0;34m\u001b[0m\u001b[0m\n",
      "\u001b[0;32m/usr/local/lib/python3.7/site-packages/gpflow/params/parameterized.py\u001b[0m in \u001b[0;36m__getattribute__\u001b[0;34m(self, name)\u001b[0m\n\u001b[1;32m    335\u001b[0m \u001b[0;34m\u001b[0m\u001b[0m\n\u001b[1;32m    336\u001b[0m     \u001b[0;32mdef\u001b[0m \u001b[0m__getattribute__\u001b[0m\u001b[0;34m(\u001b[0m\u001b[0mself\u001b[0m\u001b[0;34m,\u001b[0m \u001b[0mname\u001b[0m\u001b[0;34m)\u001b[0m\u001b[0;34m:\u001b[0m\u001b[0;34m\u001b[0m\u001b[0;34m\u001b[0m\u001b[0m\n\u001b[0;32m--> 337\u001b[0;31m         \u001b[0mattr\u001b[0m \u001b[0;34m=\u001b[0m \u001b[0mmisc\u001b[0m\u001b[0;34m.\u001b[0m\u001b[0mget_attribute\u001b[0m\u001b[0;34m(\u001b[0m\u001b[0mself\u001b[0m\u001b[0;34m,\u001b[0m \u001b[0mname\u001b[0m\u001b[0;34m)\u001b[0m\u001b[0;34m\u001b[0m\u001b[0;34m\u001b[0m\u001b[0m\n\u001b[0m\u001b[1;32m    338\u001b[0m         \u001b[0;32mif\u001b[0m \u001b[0misinstance\u001b[0m\u001b[0;34m(\u001b[0m\u001b[0mattr\u001b[0m\u001b[0;34m,\u001b[0m \u001b[0mParameter\u001b[0m\u001b[0;34m)\u001b[0m \u001b[0;32mand\u001b[0m \u001b[0mTensorConverter\u001b[0m\u001b[0;34m.\u001b[0m\u001b[0mtensor_mode\u001b[0m\u001b[0;34m(\u001b[0m\u001b[0mself\u001b[0m\u001b[0;34m)\u001b[0m\u001b[0;34m:\u001b[0m\u001b[0;34m\u001b[0m\u001b[0;34m\u001b[0m\u001b[0m\n\u001b[1;32m    339\u001b[0m             \u001b[0;32mreturn\u001b[0m \u001b[0mParameterized\u001b[0m\u001b[0;34m.\u001b[0m\u001b[0m_tensor_mode_parameter\u001b[0m\u001b[0;34m(\u001b[0m\u001b[0mattr\u001b[0m\u001b[0;34m)\u001b[0m\u001b[0;34m\u001b[0m\u001b[0;34m\u001b[0m\u001b[0m\n",
      "\u001b[0;32m/usr/local/lib/python3.7/site-packages/gpflow/misc.py\u001b[0m in \u001b[0;36mget_attribute\u001b[0;34m(obj, name, allow_fail, default)\u001b[0m\n\u001b[1;32m    135\u001b[0m         \u001b[0;32mif\u001b[0m \u001b[0mallow_fail\u001b[0m\u001b[0;34m:\u001b[0m\u001b[0;34m\u001b[0m\u001b[0;34m\u001b[0m\u001b[0m\n\u001b[1;32m    136\u001b[0m             \u001b[0;32mreturn\u001b[0m \u001b[0mdefault\u001b[0m\u001b[0;34m\u001b[0m\u001b[0;34m\u001b[0m\u001b[0m\n\u001b[0;32m--> 137\u001b[0;31m         \u001b[0;32mraise\u001b[0m \u001b[0merror\u001b[0m\u001b[0;34m\u001b[0m\u001b[0;34m\u001b[0m\u001b[0m\n\u001b[0m\u001b[1;32m    138\u001b[0m \u001b[0;34m\u001b[0m\u001b[0m\n\u001b[1;32m    139\u001b[0m \u001b[0;34m\u001b[0m\u001b[0m\n",
      "\u001b[0;32m/usr/local/lib/python3.7/site-packages/gpflow/misc.py\u001b[0m in \u001b[0;36mget_attribute\u001b[0;34m(obj, name, allow_fail, default)\u001b[0m\n\u001b[1;32m    131\u001b[0m \u001b[0;32mdef\u001b[0m \u001b[0mget_attribute\u001b[0m\u001b[0;34m(\u001b[0m\u001b[0mobj\u001b[0m\u001b[0;34m,\u001b[0m \u001b[0mname\u001b[0m\u001b[0;34m,\u001b[0m \u001b[0mallow_fail\u001b[0m\u001b[0;34m=\u001b[0m\u001b[0;32mFalse\u001b[0m\u001b[0;34m,\u001b[0m \u001b[0mdefault\u001b[0m\u001b[0;34m=\u001b[0m\u001b[0;32mNone\u001b[0m\u001b[0;34m)\u001b[0m\u001b[0;34m:\u001b[0m\u001b[0;34m\u001b[0m\u001b[0;34m\u001b[0m\u001b[0m\n\u001b[1;32m    132\u001b[0m     \u001b[0;32mtry\u001b[0m\u001b[0;34m:\u001b[0m\u001b[0;34m\u001b[0m\u001b[0;34m\u001b[0m\u001b[0m\n\u001b[0;32m--> 133\u001b[0;31m         \u001b[0;32mreturn\u001b[0m \u001b[0mobject\u001b[0m\u001b[0;34m.\u001b[0m\u001b[0m__getattribute__\u001b[0m\u001b[0;34m(\u001b[0m\u001b[0mobj\u001b[0m\u001b[0;34m,\u001b[0m \u001b[0mname\u001b[0m\u001b[0;34m)\u001b[0m\u001b[0;34m\u001b[0m\u001b[0;34m\u001b[0m\u001b[0m\n\u001b[0m\u001b[1;32m    134\u001b[0m     \u001b[0;32mexcept\u001b[0m \u001b[0mAttributeError\u001b[0m \u001b[0;32mas\u001b[0m \u001b[0merror\u001b[0m\u001b[0;34m:\u001b[0m\u001b[0;34m\u001b[0m\u001b[0;34m\u001b[0m\u001b[0m\n\u001b[1;32m    135\u001b[0m         \u001b[0;32mif\u001b[0m \u001b[0mallow_fail\u001b[0m\u001b[0;34m:\u001b[0m\u001b[0;34m\u001b[0m\u001b[0;34m\u001b[0m\u001b[0m\n",
      "\u001b[0;31mAttributeError\u001b[0m: 'RGP_Base' object has no attribute 'n_layers'"
     ],
     "output_type": "error"
    }
   ],
   "source": [
    "likelihood = Gaussian()\n",
    "kern = gpflow.kernels.Matern32(input_dim=1, variance=10., lengthscales=2.)\n",
    "\n",
    "kernels = [kern]*2\n",
    "m = RGP_Base(U=data_in_train, Y=data_out_train, likelihood=likelihood, kernels=kernels, U_win=win_in, X_win=win_out, num_classes=1)\n",
    "m.as_pandas_table()"
   ]
  },
  {
   "cell_type": "code",
   "execution_count": null,
   "metadata": {},
   "outputs": [],
   "source": []
  }
 ],
 "metadata": {
  "kernelspec": {
   "display_name": "Python 2",
   "language": "python",
   "name": "python2"
  },
  "language_info": {
   "codemirror_mode": {
    "name": "ipython",
    "version": 2
   },
   "file_extension": ".py",
   "mimetype": "text/x-python",
   "name": "python",
   "nbconvert_exporter": "python",
   "pygments_lexer": "ipython2",
   "version": "2.7.6"
  }
 },
 "nbformat": 4,
 "nbformat_minor": 0
}
